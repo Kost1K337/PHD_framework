{
 "cells": [
  {
   "cell_type": "code",
   "execution_count": 1,
   "metadata": {},
   "outputs": [],
   "source": [
    "from pvt_model import pvt_model\n",
    "import numpy as np"
   ]
  },
  {
   "cell_type": "markdown",
   "metadata": {},
   "source": [
    "1. Объявление модели"
   ]
  },
  {
   "cell_type": "code",
   "execution_count": 2,
   "metadata": {},
   "outputs": [],
   "source": [
    "model = pvt_model(0.5, 0.9, 1, 100, 0.8)"
   ]
  },
  {
   "cell_type": "markdown",
   "metadata": {},
   "source": [
    "2.1 Расчет pvt свойств в одной точке"
   ]
  },
  {
   "cell_type": "code",
   "execution_count": 3,
   "metadata": {},
   "outputs": [
    {
     "data": {
      "text/plain": [
       "[array([1.00567871]),\n",
       " array([994.3533578]),\n",
       " array([0.65570927]),\n",
       " array([4186.787]),\n",
       " array([1363.14824811]),\n",
       " array([0.92935827]),\n",
       " array([0.00347939]),\n",
       " array([173.15736181]),\n",
       " array([0.02158147]),\n",
       " array([3747.55710066]),\n",
       " array([25698770.76030537]),\n",
       " array([100.]),\n",
       " array([1.03814781e-09]),\n",
       " array([1.22864723]),\n",
       " array([782.23022276]),\n",
       " array([2.23447162]),\n",
       " array([1972.3195]),\n",
       " array([0.05706546]),\n",
       " array([0.00504763]),\n",
       " array([3.89710501e-10])]"
      ]
     },
     "execution_count": 3,
     "metadata": {},
     "output_type": "execute_result"
    }
   ],
   "source": [
    "model.calc_pvt(29997500, 320)"
   ]
  },
  {
   "cell_type": "code",
   "execution_count": 5,
   "metadata": {},
   "outputs": [
    {
     "data": {
      "text/plain": [
       "1.038064074074074e-09"
      ]
     },
     "execution_count": 5,
     "metadata": {},
     "output_type": "execute_result"
    }
   ],
   "source": [
    "rsb = 100.0\n",
    "t = 320\n",
    "gamma_gas = 0.5\n",
    "gamma_oil = 0.9\n",
    "p = 30000000\n",
    "(28.073 * rsb + 30.96 * (t - 273) - 1180 * gamma_gas + 1784.315 / gamma_oil - 2540.8) / (100000 * p)"
   ]
  },
  {
   "cell_type": "code",
   "execution_count": 13,
   "metadata": {},
   "outputs": [
    {
     "data": {
      "text/plain": [
       "886.8400587350405"
      ]
     },
     "execution_count": 13,
     "metadata": {},
     "output_type": "execute_result"
    }
   ],
   "source": [
    "model.rho_oil"
   ]
  },
  {
   "cell_type": "code",
   "execution_count": 14,
   "metadata": {},
   "outputs": [
    {
     "data": {
      "text/plain": [
       "33.482453367952104"
      ]
     },
     "execution_count": 14,
     "metadata": {},
     "output_type": "execute_result"
    }
   ],
   "source": [
    "model.muo"
   ]
  },
  {
   "cell_type": "markdown",
   "metadata": {},
   "source": [
    "2.2 Расчет pvt свойств в одной точке (при передаче списка параметров, метод возвращает перечисленные свойства)"
   ]
  },
  {
   "cell_type": "code",
   "execution_count": 15,
   "metadata": {},
   "outputs": [
    {
     "data": {
      "text/plain": [
       "[array([886.84005874]), array([33.48245337])]"
      ]
     },
     "execution_count": 15,
     "metadata": {},
     "output_type": "execute_result"
    }
   ],
   "source": [
    "model.calc_pvt(5*10**5, 310, ['rho_oil', 'muo'])"
   ]
  },
  {
   "cell_type": "markdown",
   "metadata": {},
   "source": [
    "2.3 Расчет pvt свойств в нескольких точках (при передаче списка параметров, метод возвращает перечисленные свойства)"
   ]
  },
  {
   "cell_type": "code",
   "execution_count": 16,
   "metadata": {},
   "outputs": [],
   "source": [
    "p = np.array([2*10**5, 3*10**5, 5*10**5], dtype=float)\n",
    "t = np.array([290, 295, 310], dtype=float)"
   ]
  },
  {
   "cell_type": "code",
   "execution_count": 17,
   "metadata": {},
   "outputs": [
    {
     "data": {
      "text/plain": [
       "[array([902.85916681, 898.88738522, 886.84005874]),\n",
       " array([397.94324151, 177.87618819,  33.48245337])]"
      ]
     },
     "execution_count": 17,
     "metadata": {},
     "output_type": "execute_result"
    }
   ],
   "source": [
    "model.calc_pvt(p, t, ['rho_oil', 'muo'])"
   ]
  },
  {
   "cell_type": "markdown",
   "metadata": {},
   "source": [
    "2.4 Расчет pvt свойств в нескольких точках с использованием тензеров (при передаче списка параметров, метод возвращает перечисленные свойства)"
   ]
  },
  {
   "cell_type": "code",
   "execution_count": 18,
   "metadata": {},
   "outputs": [],
   "source": [
    "import torch"
   ]
  },
  {
   "cell_type": "code",
   "execution_count": 19,
   "metadata": {},
   "outputs": [
    {
     "data": {
      "text/plain": [
       "[tensor([902.8592, 898.8874, 886.8401]),\n",
       " tensor([397.9432, 177.8762,  33.4825])]"
      ]
     },
     "execution_count": 19,
     "metadata": {},
     "output_type": "execute_result"
    }
   ],
   "source": [
    "model.calc_pvt(torch.tensor(p, requires_grad=True), torch.tensor(t, requires_grad=True), ['rho_oil', 'muo'])"
   ]
  },
  {
   "cell_type": "code",
   "execution_count": null,
   "metadata": {},
   "outputs": [],
   "source": []
  }
 ],
 "metadata": {
  "kernelspec": {
   "display_name": "work_env",
   "language": "python",
   "name": "python3"
  },
  "language_info": {
   "codemirror_mode": {
    "name": "ipython",
    "version": 3
   },
   "file_extension": ".py",
   "mimetype": "text/x-python",
   "name": "python",
   "nbconvert_exporter": "python",
   "pygments_lexer": "ipython3",
   "version": "3.10.15"
  }
 },
 "nbformat": 4,
 "nbformat_minor": 2
}
