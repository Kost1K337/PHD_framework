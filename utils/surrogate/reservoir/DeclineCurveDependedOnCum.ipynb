{
 "cells": [
  {
   "cell_type": "code",
   "execution_count": 2,
   "metadata": {},
   "outputs": [],
   "source": [
    "# super().init {wellname_kind.txt}\n",
    "class DeclineCurveDependedOnCum(Curve):     # for GOR and WCUT we do noy initiazie curves \n",
    "    def __init__(self, **kwargs):\n",
    "        super().__init__()\n",
    "        #self.name = None # name of node\n",
    "        #self.kind = kind # oil, water, gas, liquid\n",
    "        self.PI = None  # productivity index\n",
    "        self.Qopen = None # reservoir open flow debit\n",
    "        self.cum = 0 # cum fluid\n",
    "        self.Q_prev = kwargs.get(\"Q_prev\", 0) # debit on previous step\n",
    "        self.Pbhp_prev = kwargs.get(\"Pbhp_prev\", None) # borehole pressure on previous step \n",
    "        self.cum_ab_table = kwargs.get(\"cum_ab_table\", None) #{\"cum\": [], \"a\" : [], \"b\" : []} # table of decline curve coefficients for history cum statistics\n",
    "                           \n",
    "        \n",
    "    \"\"\"        \n",
    "    def __call__(self, *args, **kwargs):\n",
    "        return self.func( *args, **kwargs)\n",
    "    \"\"\"\n",
    "    def set_cum_ab_table(self, table): # cum table format {\"cum\": [],\"a\" : [],\"b\" : []}\n",
    "        self.cum_ab_table = table\n",
    "        \n",
    "    def update_cum(self): # update cum in the end of 1 iteration\n",
    "        self.cum = self.cum + self.Q_prev\n",
    "        \n",
    "        \n",
    "    def update_ipr(self): # method for update IPR curv in every step\n",
    "        a, b = self.culc_ab(self.cum) # get a,b coefficients in equation PI = a * cum + b\n",
    "        self.PI = a * self.cum + b  # PI updated\n",
    "        self.Qopen = self.Q_prev - self.PI * self.Pbhp_prev  # Qopen updated\n",
    "        \n",
    "    def culc_ab(self, cum): # method for update PI a,b coefficients in every step\n",
    "        cum_values = self.cum_ab_table[\"cum\"]\n",
    "        a_values = self.cum_ab_table[\"a\"]\n",
    "        b_values = self.cum_ab_table[\"b\"]\n",
    "\n",
    "        # check out of range cases\n",
    "        if cum < cum_values[0]:\n",
    "            return a_values[0], a_values[0]\n",
    "        if cum > cum_values[-1]:\n",
    "            return a_values[-1], a_values[-1]\n",
    "\n",
    "        # function for finding closest value in cum table\n",
    "        def bisect_left(a, x, lo=0, hi=None):   # function inside method :))\n",
    "            if lo < 0:\n",
    "                raise ValueError('lo must be non-negative')\n",
    "            if hi is None:\n",
    "                hi = len(a)\n",
    "            while lo < hi:\n",
    "                mid = (lo + hi) // 2\n",
    "                if a[mid] < x:\n",
    "                    lo = mid + 1\n",
    "                else:\n",
    "                    hi = mid\n",
    "            return lo\n",
    "        \n",
    "        \n",
    "        idx = bisect_left(cum_values, cum) # find index of closest cum value\n",
    "\n",
    "        # if we have directly equal cum value\n",
    "        if cum_values[idx] == cum:\n",
    "            return a_values[idx], b_values[idx]\n",
    "\n",
    "        # else we do linear interpolation\n",
    "        cum0, cum1 = cum_values[idx-1], cum_values[idx] \n",
    "        a0, a1 = a_values[idx-1], a_values[idx]\n",
    "        b0, b1 = b_values[idx-1], b_values[idx]\n",
    "\n",
    "        return a0 + (a1 - a0) * (cum - cum0) / (cum1 - cum0), b0 + (b1 - b0) * (cum - cum0) / (cum1 - cum0)\n",
    "\n",
    "    \n",
    "    def func(self, Pbhp): # calculate debit from actual IPR curve\n",
    "        Q = self.PI * Pbhp + self.Qopen\n",
    "        return Q\n",
    "    def inv_func(self, Q):\n",
    "        Pbhp = (Q - self.Qopen) / self.PI \n",
    "        return Pbhp\n",
    "        \n",
    "        "
   ]
  },
  {
   "cell_type": "markdown",
   "metadata": {},
   "source": [
    "# Files for inititialization inflow models"
   ]
  },
  {
   "cell_type": "code",
   "execution_count": 3,
   "metadata": {},
   "outputs": [],
   "source": [
    "import pandas as pd\n",
    "import json"
   ]
  },
  {
   "cell_type": "code",
   "execution_count": 4,
   "metadata": {},
   "outputs": [],
   "source": [
    "df = pd.read_excel(r\"D:\\PROFILES\\Pechko.ka\\Desktop\\Восток 23\\DataFrame_RENAME_NEW.xlsx\", sheet_name = \"Aprox\")"
   ]
  },
  {
   "cell_type": "code",
   "execution_count": 9,
   "metadata": {
    "scrolled": true
   },
   "outputs": [],
   "source": [
    "for well in df.name.unique():\n",
    "    for kind in ['oil', 'gas', 'liq', 'wat']:\n",
    "        cum_ab_table = df[df.name == well][[\"a_\"+kind, \"b_\"+kind, \"Cumul_\"+kind]].rename(columns = {\"a_\"+kind:\"a\", \"b_\"+kind: \"b\", \"Cumul_\"+kind: \"cum\"}).to_dict()\n",
    "        with open(r\"D:\\PROFILES\\Pechko.ka\\Desktop\\Восток 23\\CumInflowModels\"+'\\\\'+str(well)+\"_\"+str(kind)+'.txt', 'w') as file:\n",
    "             file.write(json.dumps(cum_ab_table)) \n"
   ]
  },
  {
   "cell_type": "markdown",
   "metadata": {},
   "source": [
    "# Class test"
   ]
  },
  {
   "cell_type": "code",
   "execution_count": 10,
   "metadata": {},
   "outputs": [
    {
     "name": "stdout",
     "output_type": "stream",
     "text": [
      "{\"a\": {\"0\": 0.00025012340187754, \"1\": 0.00025012340187754, \"2\": 0.00025012340187754, \"3\": 0.00025012340187754, \"4\": 0.00025012340187754, \"5\": 0.00025012340187754, \"6\": 0.00025012340187754, \"7\": 0.00025012340187754, \"8\": 0.00025012340187754, \"9\": 0.00025012340187754, \"10\": 0.00025012340187754, \"11\": 0.00025012340187754, \"12\": 0.00025012340187754, \"13\": 0.00025012340187754, \"14\": 0.00025012340187754, \"15\": 0.00025012340187754, \"16\": 0.00025012340187754, \"17\": 0.00025012340187754, \"18\": 0.00025012340187754, \"19\": 0.00025012340187754, \"20\": 0.00025012340187754, \"21\": 0.00025012340187754, \"22\": 0.00025012340187754, \"23\": 0.00025012340187754, \"24\": 0.00025012340187754, \"25\": 0.00025012340187754, \"26\": 0.00025012340187754, \"27\": 0.00025012340187754, \"28\": 0.00025012340187754, \"29\": 0.00025012340187754, \"30\": 0.00025012340187754, \"31\": 0.00025012340187754, \"32\": 0.00025012340187754, \"33\": 0.00025012340187754, \"34\": 0.00025012340187754, \"35\": 0.00025012340187754, \"36\": 0.00025012340187754, \"37\": 0.00025012340187754, \"38\": 0.00025012340187754, \"39\": 0.00025012340187754, \"40\": 0.00025012340187754, \"41\": 0.00025012340187754, \"42\": 0.00025012340187754, \"43\": 0.00025012340187754, \"44\": 0.00025012340187754, \"45\": 0.00025012340187754, \"46\": 0.00025012340187754, \"47\": 0.00025012340187754, \"48\": 0.00025012340187754, \"49\": 0.00025012340187754, \"50\": 0.00025012340187754, \"51\": 0.00025012340187754, \"52\": 0.00025012340187754, \"53\": 0.00025012340187754, \"54\": 0.00025012340187754}, \"b\": {\"0\": -1.183316661099302, \"1\": -1.183316661099302, \"2\": -1.183316661099302, \"3\": -1.183316661099302, \"4\": -1.183316661099302, \"5\": -1.183316661099302, \"6\": -1.183316661099302, \"7\": -1.183316661099302, \"8\": -1.183316661099302, \"9\": -1.183316661099302, \"10\": -1.183316661099302, \"11\": -1.183316661099302, \"12\": -1.183316661099302, \"13\": -1.183316661099302, \"14\": -1.183316661099302, \"15\": -1.183316661099302, \"16\": -1.183316661099302, \"17\": -1.183316661099302, \"18\": -1.183316661099302, \"19\": -1.183316661099302, \"20\": -1.183316661099302, \"21\": -1.183316661099302, \"22\": -1.183316661099302, \"23\": -1.183316661099302, \"24\": -1.183316661099302, \"25\": -1.183316661099302, \"26\": -1.183316661099302, \"27\": -1.183316661099302, \"28\": -1.183316661099302, \"29\": -1.183316661099302, \"30\": -1.183316661099302, \"31\": -1.183316661099302, \"32\": -1.183316661099302, \"33\": -1.183316661099302, \"34\": -1.183316661099302, \"35\": -1.183316661099302, \"36\": -1.183316661099302, \"37\": -1.183316661099302, \"38\": -1.183316661099302, \"39\": -1.183316661099302, \"40\": -1.183316661099302, \"41\": -1.183316661099302, \"42\": -1.183316661099302, \"43\": -1.183316661099302, \"44\": -1.183316661099302, \"45\": -1.183316661099302, \"46\": -1.183316661099302, \"47\": -1.183316661099302, \"48\": -1.183316661099302, \"49\": -1.183316661099302, \"50\": -1.183316661099302, \"51\": -1.183316661099302, \"52\": -1.183316661099302, \"53\": -1.183316661099302, \"54\": -1.183316661099302}, \"cum\": {\"0\": 11491.6448861824, \"1\": 11514.76771140512, \"2\": 11537.89043092216, \"3\": 11560.26719977139, \"4\": 11583.38973015016, \"5\": 11605.76599544792, \"6\": 10752.22959131666, \"7\": 11469.26784467865, \"8\": 11628.88791106186, \"9\": 11652.00980834359, \"10\": 11673.6398742866, \"11\": 11696.76159850481, \"12\": 10899.4504385573, \"13\": 10605.01002058359, \"14\": 11719.13738437552, \"15\": 11322.0775876089, \"16\": 11742.25876032552, \"17\": 11179.63320578328, \"18\": 11764.63413345603, \"19\": 11032.42014203605, \"20\": 11787.75525760009, \"21\": 11810.87620644392, \"22\": 11833.25115761223, \"23\": 11856.37156816402, \"24\": 11878.74576539921, \"25\": 10462.5436227398, \"26\": 11901.86541064555, \"27\": 11924.98480424583, \"28\": 11945.8666092165, \"29\": 11968.98548274817, \"30\": 11991.35842010882, \"31\": 12014.47684395149, \"32\": 12036.84926681014, \"33\": 12059.96719589626, \"34\": 12083.08493786917, \"35\": 12105.45667417329, \"36\": 12128.57384497748, \"37\": 10315.3328408363, \"38\": 10172.88526844579, \"39\": 10025.70451912165, \"40\": 9878.54556691665, \"41\": 9736.145922204432, \"42\": 9589.005392099576, \"43\": 9446.627448144865, \"44\": 9299.522091533252, \"45\": 9166.676815127921, \"46\": 9023.777838426864, \"47\": 8221.812543609458, \"48\": 8325.61622057257, \"49\": 8433.817514210312, \"50\": 8891.535845163506, \"51\": 8543.691605506514, \"52\": 8771.402793546393, \"53\": 8652.870379160597, \"54\": 8121.861671995343}}\n"
     ]
    }
   ],
   "source": [
    "well = '1079'\n",
    "kind = 'oil'\n",
    "with open(r\"D:\\PROFILES\\Pechko.ka\\Desktop\\Восток 23\\CumInflowModels\"+'\\\\'+str(well)+\"_\"+str(kind)+'.txt', 'r') as file:\n",
    "        print(file.read() )    \n",
    "        #file.write(json.loads(cum_ab_table)) "
   ]
  },
  {
   "cell_type": "code",
   "execution_count": 11,
   "metadata": {},
   "outputs": [],
   "source": [
    "l = {\"a\": {\"0\": 0.00025012340187754, \"1\": 0.00025012340187754, \"2\": 0.00025012340187754, \"3\": 0.00025012340187754, \"4\": 0.00025012340187754, \"5\": 0.00025012340187754, \"6\": 0.00025012340187754, \"7\": 0.00025012340187754, \"8\": 0.00025012340187754, \"9\": 0.00025012340187754, \"10\": 0.00025012340187754, \"11\": 0.00025012340187754, \"12\": 0.00025012340187754, \"13\": 0.00025012340187754, \"14\": 0.00025012340187754, \"15\": 0.00025012340187754, \"16\": 0.00025012340187754, \"17\": 0.00025012340187754, \"18\": 0.00025012340187754, \"19\": 0.00025012340187754, \"20\": 0.00025012340187754, \"21\": 0.00025012340187754, \"22\": 0.00025012340187754, \"23\": 0.00025012340187754, \"24\": 0.00025012340187754, \"25\": 0.00025012340187754, \"26\": 0.00025012340187754, \"27\": 0.00025012340187754, \"28\": 0.00025012340187754, \"29\": 0.00025012340187754, \"30\": 0.00025012340187754, \"31\": 0.00025012340187754, \"32\": 0.00025012340187754, \"33\": 0.00025012340187754, \"34\": 0.00025012340187754, \"35\": 0.00025012340187754, \"36\": 0.00025012340187754, \"37\": 0.00025012340187754, \"38\": 0.00025012340187754, \"39\": 0.00025012340187754, \"40\": 0.00025012340187754, \"41\": 0.00025012340187754, \"42\": 0.00025012340187754, \"43\": 0.00025012340187754, \"44\": 0.00025012340187754, \"45\": 0.00025012340187754, \"46\": 0.00025012340187754, \"47\": 0.00025012340187754, \"48\": 0.00025012340187754, \"49\": 0.00025012340187754, \"50\": 0.00025012340187754, \"51\": 0.00025012340187754, \"52\": 0.00025012340187754, \"53\": 0.00025012340187754, \"54\": 0.00025012340187754}, \"b\": {\"0\": -1.183316661099302, \"1\": -1.183316661099302, \"2\": -1.183316661099302, \"3\": -1.183316661099302, \"4\": -1.183316661099302, \"5\": -1.183316661099302, \"6\": -1.183316661099302, \"7\": -1.183316661099302, \"8\": -1.183316661099302, \"9\": -1.183316661099302, \"10\": -1.183316661099302, \"11\": -1.183316661099302, \"12\": -1.183316661099302, \"13\": -1.183316661099302, \"14\": -1.183316661099302, \"15\": -1.183316661099302, \"16\": -1.183316661099302, \"17\": -1.183316661099302, \"18\": -1.183316661099302, \"19\": -1.183316661099302, \"20\": -1.183316661099302, \"21\": -1.183316661099302, \"22\": -1.183316661099302, \"23\": -1.183316661099302, \"24\": -1.183316661099302, \"25\": -1.183316661099302, \"26\": -1.183316661099302, \"27\": -1.183316661099302, \"28\": -1.183316661099302, \"29\": -1.183316661099302, \"30\": -1.183316661099302, \"31\": -1.183316661099302, \"32\": -1.183316661099302, \"33\": -1.183316661099302, \"34\": -1.183316661099302, \"35\": -1.183316661099302, \"36\": -1.183316661099302, \"37\": -1.183316661099302, \"38\": -1.183316661099302, \"39\": -1.183316661099302, \"40\": -1.183316661099302, \"41\": -1.183316661099302, \"42\": -1.183316661099302, \"43\": -1.183316661099302, \"44\": -1.183316661099302, \"45\": -1.183316661099302, \"46\": -1.183316661099302, \"47\": -1.183316661099302, \"48\": -1.183316661099302, \"49\": -1.183316661099302, \"50\": -1.183316661099302, \"51\": -1.183316661099302, \"52\": -1.183316661099302, \"53\": -1.183316661099302, \"54\": -1.183316661099302}, \"cum\": {\"0\": 11491.6448861824, \"1\": 11514.76771140512, \"2\": 11537.89043092216, \"3\": 11560.26719977139, \"4\": 11583.38973015016, \"5\": 11605.76599544792, \"6\": 10752.22959131666, \"7\": 11469.26784467865, \"8\": 11628.88791106186, \"9\": 11652.00980834359, \"10\": 11673.6398742866, \"11\": 11696.76159850481, \"12\": 10899.4504385573, \"13\": 10605.01002058359, \"14\": 11719.13738437552, \"15\": 11322.0775876089, \"16\": 11742.25876032552, \"17\": 11179.63320578328, \"18\": 11764.63413345603, \"19\": 11032.42014203605, \"20\": 11787.75525760009, \"21\": 11810.87620644392, \"22\": 11833.25115761223, \"23\": 11856.37156816402, \"24\": 11878.74576539921, \"25\": 10462.5436227398, \"26\": 11901.86541064555, \"27\": 11924.98480424583, \"28\": 11945.8666092165, \"29\": 11968.98548274817, \"30\": 11991.35842010882, \"31\": 12014.47684395149, \"32\": 12036.84926681014, \"33\": 12059.96719589626, \"34\": 12083.08493786917, \"35\": 12105.45667417329, \"36\": 12128.57384497748, \"37\": 10315.3328408363, \"38\": 10172.88526844579, \"39\": 10025.70451912165, \"40\": 9878.54556691665, \"41\": 9736.145922204432, \"42\": 9589.005392099576, \"43\": 9446.627448144865, \"44\": 9299.522091533252, \"45\": 9166.676815127921, \"46\": 9023.777838426864, \"47\": 8221.812543609458, \"48\": 8325.61622057257, \"49\": 8433.817514210312, \"50\": 8891.535845163506, \"51\": 8543.691605506514, \"52\": 8771.402793546393, \"53\": 8652.870379160597, \"54\": 8121.861671995343}}"
   ]
  },
  {
   "cell_type": "code",
   "execution_count": 13,
   "metadata": {
    "scrolled": true
   },
   "outputs": [
    {
     "ename": "TypeError",
     "evalue": "float() argument must be a string or a number, not 'dict'",
     "output_type": "error",
     "traceback": [
      "\u001b[1;31m---------------------------------------------------------------------------\u001b[0m",
      "\u001b[1;31mTypeError\u001b[0m                                 Traceback (most recent call last)",
      "\u001b[1;32m<ipython-input-13-c3fd04df94f1>\u001b[0m in \u001b[0;36m<module>\u001b[1;34m\u001b[0m\n\u001b[0;32m      1\u001b[0m \u001b[1;32mimport\u001b[0m \u001b[0mmatplotlib\u001b[0m\u001b[1;33m.\u001b[0m\u001b[0mpyplot\u001b[0m \u001b[1;32mas\u001b[0m \u001b[0mplt\u001b[0m\u001b[1;33m\u001b[0m\u001b[1;33m\u001b[0m\u001b[0m\n\u001b[1;32m----> 2\u001b[1;33m \u001b[0mplt\u001b[0m\u001b[1;33m.\u001b[0m\u001b[0mplot\u001b[0m\u001b[1;33m(\u001b[0m\u001b[0ml\u001b[0m\u001b[1;33m[\u001b[0m\u001b[1;34m'cum'\u001b[0m\u001b[1;33m]\u001b[0m\u001b[1;33m,\u001b[0m \u001b[0ml\u001b[0m\u001b[1;33m[\u001b[0m\u001b[1;34m'a'\u001b[0m\u001b[1;33m]\u001b[0m\u001b[1;33m)\u001b[0m\u001b[1;33m\u001b[0m\u001b[1;33m\u001b[0m\u001b[0m\n\u001b[0m",
      "\u001b[1;32m~\\AppData\\Local\\Continuum\\anaconda3\\lib\\site-packages\\matplotlib\\pyplot.py\u001b[0m in \u001b[0;36mplot\u001b[1;34m(scalex, scaley, data, *args, **kwargs)\u001b[0m\n\u001b[0;32m   2809\u001b[0m     return gca().plot(\n\u001b[0;32m   2810\u001b[0m         *args, scalex=scalex, scaley=scaley, **({\"data\": data} if data\n\u001b[1;32m-> 2811\u001b[1;33m         is not None else {}), **kwargs)\n\u001b[0m\u001b[0;32m   2812\u001b[0m \u001b[1;33m\u001b[0m\u001b[0m\n\u001b[0;32m   2813\u001b[0m \u001b[1;33m\u001b[0m\u001b[0m\n",
      "\u001b[1;32m~\\AppData\\Local\\Continuum\\anaconda3\\lib\\site-packages\\matplotlib\\__init__.py\u001b[0m in \u001b[0;36minner\u001b[1;34m(ax, data, *args, **kwargs)\u001b[0m\n\u001b[0;32m   1808\u001b[0m                         \u001b[1;34m\"the Matplotlib list!)\"\u001b[0m \u001b[1;33m%\u001b[0m \u001b[1;33m(\u001b[0m\u001b[0mlabel_namer\u001b[0m\u001b[1;33m,\u001b[0m \u001b[0mfunc\u001b[0m\u001b[1;33m.\u001b[0m\u001b[0m__name__\u001b[0m\u001b[1;33m)\u001b[0m\u001b[1;33m,\u001b[0m\u001b[1;33m\u001b[0m\u001b[1;33m\u001b[0m\u001b[0m\n\u001b[0;32m   1809\u001b[0m                         RuntimeWarning, stacklevel=2)\n\u001b[1;32m-> 1810\u001b[1;33m             \u001b[1;32mreturn\u001b[0m \u001b[0mfunc\u001b[0m\u001b[1;33m(\u001b[0m\u001b[0max\u001b[0m\u001b[1;33m,\u001b[0m \u001b[1;33m*\u001b[0m\u001b[0margs\u001b[0m\u001b[1;33m,\u001b[0m \u001b[1;33m**\u001b[0m\u001b[0mkwargs\u001b[0m\u001b[1;33m)\u001b[0m\u001b[1;33m\u001b[0m\u001b[1;33m\u001b[0m\u001b[0m\n\u001b[0m\u001b[0;32m   1811\u001b[0m \u001b[1;33m\u001b[0m\u001b[0m\n\u001b[0;32m   1812\u001b[0m         inner.__doc__ = _add_data_doc(inner.__doc__,\n",
      "\u001b[1;32m~\\AppData\\Local\\Continuum\\anaconda3\\lib\\site-packages\\matplotlib\\axes\\_axes.py\u001b[0m in \u001b[0;36mplot\u001b[1;34m(self, scalex, scaley, *args, **kwargs)\u001b[0m\n\u001b[0;32m   1610\u001b[0m \u001b[1;33m\u001b[0m\u001b[0m\n\u001b[0;32m   1611\u001b[0m         \u001b[1;32mfor\u001b[0m \u001b[0mline\u001b[0m \u001b[1;32min\u001b[0m \u001b[0mself\u001b[0m\u001b[1;33m.\u001b[0m\u001b[0m_get_lines\u001b[0m\u001b[1;33m(\u001b[0m\u001b[1;33m*\u001b[0m\u001b[0margs\u001b[0m\u001b[1;33m,\u001b[0m \u001b[1;33m**\u001b[0m\u001b[0mkwargs\u001b[0m\u001b[1;33m)\u001b[0m\u001b[1;33m:\u001b[0m\u001b[1;33m\u001b[0m\u001b[1;33m\u001b[0m\u001b[0m\n\u001b[1;32m-> 1612\u001b[1;33m             \u001b[0mself\u001b[0m\u001b[1;33m.\u001b[0m\u001b[0madd_line\u001b[0m\u001b[1;33m(\u001b[0m\u001b[0mline\u001b[0m\u001b[1;33m)\u001b[0m\u001b[1;33m\u001b[0m\u001b[1;33m\u001b[0m\u001b[0m\n\u001b[0m\u001b[0;32m   1613\u001b[0m             \u001b[0mlines\u001b[0m\u001b[1;33m.\u001b[0m\u001b[0mappend\u001b[0m\u001b[1;33m(\u001b[0m\u001b[0mline\u001b[0m\u001b[1;33m)\u001b[0m\u001b[1;33m\u001b[0m\u001b[1;33m\u001b[0m\u001b[0m\n\u001b[0;32m   1614\u001b[0m \u001b[1;33m\u001b[0m\u001b[0m\n",
      "\u001b[1;32m~\\AppData\\Local\\Continuum\\anaconda3\\lib\\site-packages\\matplotlib\\axes\\_base.py\u001b[0m in \u001b[0;36madd_line\u001b[1;34m(self, line)\u001b[0m\n\u001b[0;32m   1893\u001b[0m             \u001b[0mline\u001b[0m\u001b[1;33m.\u001b[0m\u001b[0mset_clip_path\u001b[0m\u001b[1;33m(\u001b[0m\u001b[0mself\u001b[0m\u001b[1;33m.\u001b[0m\u001b[0mpatch\u001b[0m\u001b[1;33m)\u001b[0m\u001b[1;33m\u001b[0m\u001b[1;33m\u001b[0m\u001b[0m\n\u001b[0;32m   1894\u001b[0m \u001b[1;33m\u001b[0m\u001b[0m\n\u001b[1;32m-> 1895\u001b[1;33m         \u001b[0mself\u001b[0m\u001b[1;33m.\u001b[0m\u001b[0m_update_line_limits\u001b[0m\u001b[1;33m(\u001b[0m\u001b[0mline\u001b[0m\u001b[1;33m)\u001b[0m\u001b[1;33m\u001b[0m\u001b[1;33m\u001b[0m\u001b[0m\n\u001b[0m\u001b[0;32m   1896\u001b[0m         \u001b[1;32mif\u001b[0m \u001b[1;32mnot\u001b[0m \u001b[0mline\u001b[0m\u001b[1;33m.\u001b[0m\u001b[0mget_label\u001b[0m\u001b[1;33m(\u001b[0m\u001b[1;33m)\u001b[0m\u001b[1;33m:\u001b[0m\u001b[1;33m\u001b[0m\u001b[1;33m\u001b[0m\u001b[0m\n\u001b[0;32m   1897\u001b[0m             \u001b[0mline\u001b[0m\u001b[1;33m.\u001b[0m\u001b[0mset_label\u001b[0m\u001b[1;33m(\u001b[0m\u001b[1;34m'_line%d'\u001b[0m \u001b[1;33m%\u001b[0m \u001b[0mlen\u001b[0m\u001b[1;33m(\u001b[0m\u001b[0mself\u001b[0m\u001b[1;33m.\u001b[0m\u001b[0mlines\u001b[0m\u001b[1;33m)\u001b[0m\u001b[1;33m)\u001b[0m\u001b[1;33m\u001b[0m\u001b[1;33m\u001b[0m\u001b[0m\n",
      "\u001b[1;32m~\\AppData\\Local\\Continuum\\anaconda3\\lib\\site-packages\\matplotlib\\axes\\_base.py\u001b[0m in \u001b[0;36m_update_line_limits\u001b[1;34m(self, line)\u001b[0m\n\u001b[0;32m   1915\u001b[0m         \u001b[0mFigures\u001b[0m \u001b[0mout\u001b[0m \u001b[0mthe\u001b[0m \u001b[0mdata\u001b[0m \u001b[0mlimit\u001b[0m \u001b[0mof\u001b[0m \u001b[0mthe\u001b[0m \u001b[0mgiven\u001b[0m \u001b[0mline\u001b[0m\u001b[1;33m,\u001b[0m \u001b[0mupdating\u001b[0m \u001b[0mself\u001b[0m\u001b[1;33m.\u001b[0m\u001b[0mdataLim\u001b[0m\u001b[1;33m.\u001b[0m\u001b[1;33m\u001b[0m\u001b[1;33m\u001b[0m\u001b[0m\n\u001b[0;32m   1916\u001b[0m         \"\"\"\n\u001b[1;32m-> 1917\u001b[1;33m         \u001b[0mpath\u001b[0m \u001b[1;33m=\u001b[0m \u001b[0mline\u001b[0m\u001b[1;33m.\u001b[0m\u001b[0mget_path\u001b[0m\u001b[1;33m(\u001b[0m\u001b[1;33m)\u001b[0m\u001b[1;33m\u001b[0m\u001b[1;33m\u001b[0m\u001b[0m\n\u001b[0m\u001b[0;32m   1918\u001b[0m         \u001b[1;32mif\u001b[0m \u001b[0mpath\u001b[0m\u001b[1;33m.\u001b[0m\u001b[0mvertices\u001b[0m\u001b[1;33m.\u001b[0m\u001b[0msize\u001b[0m \u001b[1;33m==\u001b[0m \u001b[1;36m0\u001b[0m\u001b[1;33m:\u001b[0m\u001b[1;33m\u001b[0m\u001b[1;33m\u001b[0m\u001b[0m\n\u001b[0;32m   1919\u001b[0m             \u001b[1;32mreturn\u001b[0m\u001b[1;33m\u001b[0m\u001b[1;33m\u001b[0m\u001b[0m\n",
      "\u001b[1;32m~\\AppData\\Local\\Continuum\\anaconda3\\lib\\site-packages\\matplotlib\\lines.py\u001b[0m in \u001b[0;36mget_path\u001b[1;34m(self)\u001b[0m\n\u001b[0;32m    943\u001b[0m         \"\"\"\n\u001b[0;32m    944\u001b[0m         \u001b[1;32mif\u001b[0m \u001b[0mself\u001b[0m\u001b[1;33m.\u001b[0m\u001b[0m_invalidy\u001b[0m \u001b[1;32mor\u001b[0m \u001b[0mself\u001b[0m\u001b[1;33m.\u001b[0m\u001b[0m_invalidx\u001b[0m\u001b[1;33m:\u001b[0m\u001b[1;33m\u001b[0m\u001b[1;33m\u001b[0m\u001b[0m\n\u001b[1;32m--> 945\u001b[1;33m             \u001b[0mself\u001b[0m\u001b[1;33m.\u001b[0m\u001b[0mrecache\u001b[0m\u001b[1;33m(\u001b[0m\u001b[1;33m)\u001b[0m\u001b[1;33m\u001b[0m\u001b[1;33m\u001b[0m\u001b[0m\n\u001b[0m\u001b[0;32m    946\u001b[0m         \u001b[1;32mreturn\u001b[0m \u001b[0mself\u001b[0m\u001b[1;33m.\u001b[0m\u001b[0m_path\u001b[0m\u001b[1;33m\u001b[0m\u001b[1;33m\u001b[0m\u001b[0m\n\u001b[0;32m    947\u001b[0m \u001b[1;33m\u001b[0m\u001b[0m\n",
      "\u001b[1;32m~\\AppData\\Local\\Continuum\\anaconda3\\lib\\site-packages\\matplotlib\\lines.py\u001b[0m in \u001b[0;36mrecache\u001b[1;34m(self, always)\u001b[0m\n\u001b[0;32m    638\u001b[0m         \u001b[1;32mif\u001b[0m \u001b[0malways\u001b[0m \u001b[1;32mor\u001b[0m \u001b[0mself\u001b[0m\u001b[1;33m.\u001b[0m\u001b[0m_invalidx\u001b[0m\u001b[1;33m:\u001b[0m\u001b[1;33m\u001b[0m\u001b[1;33m\u001b[0m\u001b[0m\n\u001b[0;32m    639\u001b[0m             \u001b[0mxconv\u001b[0m \u001b[1;33m=\u001b[0m \u001b[0mself\u001b[0m\u001b[1;33m.\u001b[0m\u001b[0mconvert_xunits\u001b[0m\u001b[1;33m(\u001b[0m\u001b[0mself\u001b[0m\u001b[1;33m.\u001b[0m\u001b[0m_xorig\u001b[0m\u001b[1;33m)\u001b[0m\u001b[1;33m\u001b[0m\u001b[1;33m\u001b[0m\u001b[0m\n\u001b[1;32m--> 640\u001b[1;33m             \u001b[0mx\u001b[0m \u001b[1;33m=\u001b[0m \u001b[0m_to_unmasked_float_array\u001b[0m\u001b[1;33m(\u001b[0m\u001b[0mxconv\u001b[0m\u001b[1;33m)\u001b[0m\u001b[1;33m.\u001b[0m\u001b[0mravel\u001b[0m\u001b[1;33m(\u001b[0m\u001b[1;33m)\u001b[0m\u001b[1;33m\u001b[0m\u001b[1;33m\u001b[0m\u001b[0m\n\u001b[0m\u001b[0;32m    641\u001b[0m         \u001b[1;32melse\u001b[0m\u001b[1;33m:\u001b[0m\u001b[1;33m\u001b[0m\u001b[1;33m\u001b[0m\u001b[0m\n\u001b[0;32m    642\u001b[0m             \u001b[0mx\u001b[0m \u001b[1;33m=\u001b[0m \u001b[0mself\u001b[0m\u001b[1;33m.\u001b[0m\u001b[0m_x\u001b[0m\u001b[1;33m\u001b[0m\u001b[1;33m\u001b[0m\u001b[0m\n",
      "\u001b[1;32m~\\AppData\\Local\\Continuum\\anaconda3\\lib\\site-packages\\matplotlib\\cbook\\__init__.py\u001b[0m in \u001b[0;36m_to_unmasked_float_array\u001b[1;34m(x)\u001b[0m\n\u001b[0;32m   1363\u001b[0m         \u001b[1;32mreturn\u001b[0m \u001b[0mnp\u001b[0m\u001b[1;33m.\u001b[0m\u001b[0mma\u001b[0m\u001b[1;33m.\u001b[0m\u001b[0masarray\u001b[0m\u001b[1;33m(\u001b[0m\u001b[0mx\u001b[0m\u001b[1;33m,\u001b[0m \u001b[0mfloat\u001b[0m\u001b[1;33m)\u001b[0m\u001b[1;33m.\u001b[0m\u001b[0mfilled\u001b[0m\u001b[1;33m(\u001b[0m\u001b[0mnp\u001b[0m\u001b[1;33m.\u001b[0m\u001b[0mnan\u001b[0m\u001b[1;33m)\u001b[0m\u001b[1;33m\u001b[0m\u001b[1;33m\u001b[0m\u001b[0m\n\u001b[0;32m   1364\u001b[0m     \u001b[1;32melse\u001b[0m\u001b[1;33m:\u001b[0m\u001b[1;33m\u001b[0m\u001b[1;33m\u001b[0m\u001b[0m\n\u001b[1;32m-> 1365\u001b[1;33m         \u001b[1;32mreturn\u001b[0m \u001b[0mnp\u001b[0m\u001b[1;33m.\u001b[0m\u001b[0masarray\u001b[0m\u001b[1;33m(\u001b[0m\u001b[0mx\u001b[0m\u001b[1;33m,\u001b[0m \u001b[0mfloat\u001b[0m\u001b[1;33m)\u001b[0m\u001b[1;33m\u001b[0m\u001b[1;33m\u001b[0m\u001b[0m\n\u001b[0m\u001b[0;32m   1366\u001b[0m \u001b[1;33m\u001b[0m\u001b[0m\n\u001b[0;32m   1367\u001b[0m \u001b[1;33m\u001b[0m\u001b[0m\n",
      "\u001b[1;32m~\\AppData\\Local\\Continuum\\anaconda3\\lib\\site-packages\\numpy\\core\\numeric.py\u001b[0m in \u001b[0;36masarray\u001b[1;34m(a, dtype, order)\u001b[0m\n\u001b[0;32m    536\u001b[0m \u001b[1;33m\u001b[0m\u001b[0m\n\u001b[0;32m    537\u001b[0m     \"\"\"\n\u001b[1;32m--> 538\u001b[1;33m     \u001b[1;32mreturn\u001b[0m \u001b[0marray\u001b[0m\u001b[1;33m(\u001b[0m\u001b[0ma\u001b[0m\u001b[1;33m,\u001b[0m \u001b[0mdtype\u001b[0m\u001b[1;33m,\u001b[0m \u001b[0mcopy\u001b[0m\u001b[1;33m=\u001b[0m\u001b[1;32mFalse\u001b[0m\u001b[1;33m,\u001b[0m \u001b[0morder\u001b[0m\u001b[1;33m=\u001b[0m\u001b[0morder\u001b[0m\u001b[1;33m)\u001b[0m\u001b[1;33m\u001b[0m\u001b[1;33m\u001b[0m\u001b[0m\n\u001b[0m\u001b[0;32m    539\u001b[0m \u001b[1;33m\u001b[0m\u001b[0m\n\u001b[0;32m    540\u001b[0m \u001b[1;33m\u001b[0m\u001b[0m\n",
      "\u001b[1;31mTypeError\u001b[0m: float() argument must be a string or a number, not 'dict'"
     ]
    }
   ],
   "source": [
    "import matplotlib.pyplot as plt\n"
   ]
  },
  {
   "cell_type": "code",
   "execution_count": 19,
   "metadata": {},
   "outputs": [
    {
     "data": {
      "text/plain": [
       "[<matplotlib.lines.Line2D at 0x22182708898>]"
      ]
     },
     "execution_count": 19,
     "metadata": {},
     "output_type": "execute_result"
    },
    {
     "data": {
      "image/png": "[encoded data removed]",
      "text/plain": [
       "<Figure size 432x288 with 1 Axes>"
      ]
     },
     "metadata": {
      "needs_background": "light"
     },
     "output_type": "display_data"
    }
   ],
   "source": [
    "plt.plot(l['cum'].values(), l['b'].values(), 'o')"
   ]
  },
  {
   "cell_type": "code",
   "execution_count": 42,
   "metadata": {},
   "outputs": [],
   "source": [
    "inflow1079 = DeclineCurveDependedOnCum(Pbhp_prev = 200)"
   ]
  },
  {
   "cell_type": "code",
   "execution_count": 47,
   "metadata": {},
   "outputs": [],
   "source": [
    "inflow1079.Q_prev = 100"
   ]
  },
  {
   "cell_type": "code",
   "execution_count": 49,
   "metadata": {},
   "outputs": [],
   "source": [
    "inflow1079.update_cum()"
   ]
  },
  {
   "cell_type": "code",
   "execution_count": 52,
   "metadata": {},
   "outputs": [
    {
     "ename": "TypeError",
     "evalue": "'NoneType' object is not subscriptable",
     "output_type": "error",
     "traceback": [
      "\u001b[1;31m---------------------------------------------------------------------------\u001b[0m",
      "\u001b[1;31mTypeError\u001b[0m                                 Traceback (most recent call last)",
      "\u001b[1;32m<ipython-input-52-1482da13bb1e>\u001b[0m in \u001b[0;36m<module>\u001b[1;34m\u001b[0m\n\u001b[1;32m----> 1\u001b[1;33m \u001b[0minflow1079\u001b[0m\u001b[1;33m.\u001b[0m\u001b[0mupdate_ipr\u001b[0m\u001b[1;33m(\u001b[0m\u001b[1;33m)\u001b[0m\u001b[1;33m\u001b[0m\u001b[1;33m\u001b[0m\u001b[0m\n\u001b[0m",
      "\u001b[1;32m<ipython-input-40-ecd88d46377f>\u001b[0m in \u001b[0;36mupdate_ipr\u001b[1;34m(self)\u001b[0m\n\u001b[0;32m     25\u001b[0m \u001b[1;33m\u001b[0m\u001b[0m\n\u001b[0;32m     26\u001b[0m     \u001b[1;32mdef\u001b[0m \u001b[0mupdate_ipr\u001b[0m\u001b[1;33m(\u001b[0m\u001b[0mself\u001b[0m\u001b[1;33m)\u001b[0m\u001b[1;33m:\u001b[0m \u001b[1;31m# method for update IPR curv in every step\u001b[0m\u001b[1;33m\u001b[0m\u001b[1;33m\u001b[0m\u001b[0m\n\u001b[1;32m---> 27\u001b[1;33m         \u001b[0ma\u001b[0m\u001b[1;33m,\u001b[0m \u001b[0mb\u001b[0m \u001b[1;33m=\u001b[0m \u001b[0mself\u001b[0m\u001b[1;33m.\u001b[0m\u001b[0mculc_ab\u001b[0m\u001b[1;33m(\u001b[0m\u001b[0mself\u001b[0m\u001b[1;33m.\u001b[0m\u001b[0mcum\u001b[0m\u001b[1;33m)\u001b[0m \u001b[1;31m# get a,b coefficients in equation PI = a * cum + b\u001b[0m\u001b[1;33m\u001b[0m\u001b[1;33m\u001b[0m\u001b[0m\n\u001b[0m\u001b[0;32m     28\u001b[0m         \u001b[0mself\u001b[0m\u001b[1;33m.\u001b[0m\u001b[0mPI\u001b[0m \u001b[1;33m=\u001b[0m \u001b[0ma\u001b[0m \u001b[1;33m*\u001b[0m \u001b[0mself\u001b[0m\u001b[1;33m.\u001b[0m\u001b[0mcum\u001b[0m \u001b[1;33m+\u001b[0m \u001b[0mb\u001b[0m  \u001b[1;31m# PI updated\u001b[0m\u001b[1;33m\u001b[0m\u001b[1;33m\u001b[0m\u001b[0m\n\u001b[0;32m     29\u001b[0m         \u001b[0mself\u001b[0m\u001b[1;33m.\u001b[0m\u001b[0mQopen\u001b[0m \u001b[1;33m=\u001b[0m \u001b[0mself\u001b[0m\u001b[1;33m.\u001b[0m\u001b[0mQ_prev\u001b[0m \u001b[1;33m-\u001b[0m \u001b[0mself\u001b[0m\u001b[1;33m.\u001b[0m\u001b[0mPI\u001b[0m \u001b[1;33m*\u001b[0m \u001b[0mself\u001b[0m\u001b[1;33m.\u001b[0m\u001b[0mPbhp_prev\u001b[0m  \u001b[1;31m# Qopen updated\u001b[0m\u001b[1;33m\u001b[0m\u001b[1;33m\u001b[0m\u001b[0m\n",
      "\u001b[1;32m<ipython-input-40-ecd88d46377f>\u001b[0m in \u001b[0;36mculc_ab\u001b[1;34m(self, cum)\u001b[0m\n\u001b[0;32m     30\u001b[0m \u001b[1;33m\u001b[0m\u001b[0m\n\u001b[0;32m     31\u001b[0m     \u001b[1;32mdef\u001b[0m \u001b[0mculc_ab\u001b[0m\u001b[1;33m(\u001b[0m\u001b[0mself\u001b[0m\u001b[1;33m,\u001b[0m \u001b[0mcum\u001b[0m\u001b[1;33m)\u001b[0m\u001b[1;33m:\u001b[0m \u001b[1;31m# method for update PI a,b coefficients in every step\u001b[0m\u001b[1;33m\u001b[0m\u001b[1;33m\u001b[0m\u001b[0m\n\u001b[1;32m---> 32\u001b[1;33m         \u001b[0mcum_values\u001b[0m \u001b[1;33m=\u001b[0m \u001b[0mself\u001b[0m\u001b[1;33m.\u001b[0m\u001b[0mcum_ab_table\u001b[0m\u001b[1;33m[\u001b[0m\u001b[1;34m\"cum\"\u001b[0m\u001b[1;33m]\u001b[0m\u001b[1;33m\u001b[0m\u001b[1;33m\u001b[0m\u001b[0m\n\u001b[0m\u001b[0;32m     33\u001b[0m         \u001b[0ma_values\u001b[0m \u001b[1;33m=\u001b[0m \u001b[0mself\u001b[0m\u001b[1;33m.\u001b[0m\u001b[0mcum_ab_table\u001b[0m\u001b[1;33m[\u001b[0m\u001b[1;34m\"a\"\u001b[0m\u001b[1;33m]\u001b[0m\u001b[1;33m\u001b[0m\u001b[1;33m\u001b[0m\u001b[0m\n\u001b[0;32m     34\u001b[0m         \u001b[0mb_values\u001b[0m \u001b[1;33m=\u001b[0m \u001b[0mself\u001b[0m\u001b[1;33m.\u001b[0m\u001b[0mcum_ab_table\u001b[0m\u001b[1;33m[\u001b[0m\u001b[1;34m\"b\"\u001b[0m\u001b[1;33m]\u001b[0m\u001b[1;33m\u001b[0m\u001b[1;33m\u001b[0m\u001b[0m\n",
      "\u001b[1;31mTypeError\u001b[0m: 'NoneType' object is not subscriptable"
     ]
    }
   ],
   "source": [
    "inflow1079.update_ipr()"
   ]
  }
 ],
 "metadata": {
  "kernelspec": {
   "display_name": "Python 3",
   "language": "python",
   "name": "python3"
  },
  "language_info": {
   "codemirror_mode": {
    "name": "ipython",
    "version": 3
   },
   "file_extension": ".py",
   "mimetype": "text/x-python",
   "name": "python",
   "nbconvert_exporter": "python",
   "pygments_lexer": "ipython3",
   "version": "3.7.3"
  }
 },
 "nbformat": 4,
 "nbformat_minor": 2
}
