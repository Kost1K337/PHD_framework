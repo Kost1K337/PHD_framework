{
 "cells": [
  {
   "cell_type": "markdown",
   "id": "4ada3463",
   "metadata": {
    "vscode": {
     "languageId": "plaintext"
    }
   },
   "source": [
    "# Примеры обобщения в суррогатную модель компонент:\n",
    "\n",
    "* Пласт\n",
    "\n"
   ]
  },
  {
   "cell_type": "code",
   "execution_count": null,
   "id": "442af1d9",
   "metadata": {
    "vscode": {
     "languageId": "plaintext"
    }
   },
   "outputs": [],
   "source": []
  },
  {
   "cell_type": "markdown",
   "id": "53a5aae7",
   "metadata": {},
   "source": [
    "* Скважины\n"
   ]
  },
  {
   "cell_type": "code",
   "execution_count": null,
   "id": "a0f3d98c",
   "metadata": {
    "vscode": {
     "languageId": "plaintext"
    }
   },
   "outputs": [],
   "source": []
  },
  {
   "cell_type": "markdown",
   "id": "7f83ba46",
   "metadata": {},
   "source": [
    "\n",
    "* Наземная инфраструктура"
   ]
  },
  {
   "cell_type": "markdown",
   "id": "ec8debc8",
   "metadata": {},
   "source": []
  }
 ],
 "metadata": {
  "language_info": {
   "name": "python"
  }
 },
 "nbformat": 4,
 "nbformat_minor": 5
}
