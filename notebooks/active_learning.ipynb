{
 "cells": [
  {
   "cell_type": "markdown",
   "id": "487926fb",
   "metadata": {},
   "source": [
    "# Эксперементы для сравнения \n",
    "Random sampling\n",
    "\n",
    "Uncertainty sampling\n",
    "\n",
    "Expected error reduction\n",
    "\n",
    "## Данные\n",
    "\n",
    "модель скважины на датасете Жагрина\n"
   ]
  },
  {
   "cell_type": "markdown",
   "id": "3e3372cf",
   "metadata": {},
   "source": [
    "Метод Нелдера–Мида\n",
    "Сокращение дисперсии (Variance Reduction)\n",
    "Взвешивание по плотности (Density Weighting)"
   ]
  }
 ],
 "metadata": {
  "kernelspec": {
   "display_name": ".venv",
   "language": "python",
   "name": "python3"
  },
  "language_info": {
   "name": "python",
   "version": "3.12.9"
  }
 },
 "nbformat": 4,
 "nbformat_minor": 5
}
