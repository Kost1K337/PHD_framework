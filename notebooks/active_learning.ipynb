{
 "cells": [
  {
   "cell_type": "markdown",
   "id": "487926fb",
   "metadata": {},
   "source": [
    "# Эксперементы для сравнения \n",
    "Random sampling\n",
    "\n",
    "Uncertainty sampling\n",
    "\n",
    "Expected error reduction\n",
    "\n",
    "## Данные\n",
    "\n",
    "модель скважины на датасете Жагрина\n"
   ]
  },
  {
   "cell_type": "markdown",
   "id": "3e3372cf",
   "metadata": {},
   "source": []
  }
 ],
 "metadata": {
  "language_info": {
   "name": "python"
  }
 },
 "nbformat": 4,
 "nbformat_minor": 5
}
